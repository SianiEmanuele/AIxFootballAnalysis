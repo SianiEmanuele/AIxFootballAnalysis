{
 "cells": [
  {
   "metadata": {},
   "cell_type": "markdown",
   "source": "# Importing Dataset",
   "id": "df67f78cc8a2ae42"
  },
  {
   "cell_type": "code",
   "id": "initial_id",
   "metadata": {
    "collapsed": true,
    "ExecuteTime": {
     "end_time": "2025-01-01T17:49:12.192170Z",
     "start_time": "2025-01-01T17:49:12.183640Z"
    }
   },
   "source": [
    "import os \n",
    "import torch.multiprocessing as mp\n",
    "import pandas as pd\n",
    "import matplotlib.pyplot as plt\n",
    "from ultralytics import YOLO\n",
    "\n",
    "cwd = os.getcwd()\n",
    "dataset_root_folder = os.path.join(cwd, \"../../dataset\")\n",
    "\n",
    "# Funzione per generare i grafici delle perdite (Train e Validation Losses)\n",
    "def plot_losses(data, figsize=(12, 10), title=\"Train and Validation Losses Over Epochs\"):\n",
    "    \"\"\"\n",
    "    Funzione per creare un plot delle perdite (Losses) di training e validazione su una griglia 2x2.\n",
    "    \n",
    "    Args:\n",
    "        data (DataFrame): Un DataFrame contenente i dati da plottare.\n",
    "        figsize (tuple): Dimensione della figura (larghezza, altezza).\n",
    "        title (str): Titolo principale della figura.\n",
    "    \"\"\"\n",
    "    # Configurazione dei grafici (fissa)\n",
    "    plots = [\n",
    "        (0, 0, 'Loss', 'blue', 'orange', 'Box Loss', 'train/box_loss', 'val/box_loss'),\n",
    "        (0, 1, 'Loss', 'green', 'red', 'Class Loss', 'train/cls_loss', 'val/cls_loss'),\n",
    "        (1, 0, 'Loss', 'purple', 'cyan', 'DFL Loss', 'train/dfl_loss', 'val/dfl_loss'),\n",
    "        (1, 1, 'Score', 'magenta', 'brown', 'Validation Metrics', 'metrics/mAP50(B)', 'metrics/mAP50-95(B)')\n",
    "    ]\n",
    "    \n",
    "    # Configura la figura\n",
    "    fig, axes = plt.subplots(2, 2, figsize=figsize)\n",
    "    fig.suptitle(title, fontsize=16)\n",
    "\n",
    "    # Creazione dei grafici iterativamente\n",
    "    for r, c, ylabel, color_train, color_val, plot_title, key_train, key_val in plots:\n",
    "        ax = axes[r, c]\n",
    "        ax.plot(data['epoch'], data[key_train], label=f'Train {plot_title}', color=color_train)\n",
    "        ax.plot(data['epoch'], data[key_val], label=f'Val {plot_title}', color=color_val)\n",
    "        ax.set_title(plot_title)\n",
    "        ax.set_xlabel('Epoch')\n",
    "        ax.set_ylabel(ylabel)\n",
    "        ax.legend()\n",
    "        ax.grid()\n",
    "\n",
    "    # Layout\n",
    "    plt.tight_layout(rect=[0, 0, 1, 0.96])\n",
    "    plt.show()"
   ],
   "outputs": [],
   "execution_count": 23
  },
  {
   "metadata": {},
   "cell_type": "markdown",
   "source": " # YOLO V5",
   "id": "41fca1f6bd971c81"
  },
  {
   "metadata": {},
   "cell_type": "markdown",
   "source": [
    "## v1 \n",
    "312 images with 3x augmentation"
   ],
   "id": "3c5ff05de23d5d79"
  },
  {
   "metadata": {
    "jupyter": {
     "is_executing": true
    },
    "ExecuteTime": {
     "start_time": "2025-01-01T17:49:14.643369Z"
    }
   },
   "cell_type": "code",
   "source": [
    "#train yolo on GPU with 10 epochs\n",
    "mp.freeze_support()  # Necessario su Windows\n",
    "model = YOLO(\"yolov5l.pt\")\n",
    "model = model.cuda()\n",
    "# print current path \n",
    "dataset_path = os.path.join(dataset_root_folder, \"yolov5\", \"v1\")\n",
    "model.train(data=os.path.join(dataset_path, \"data.yaml\"), epochs=10, imgsz=640, save=True, save_dir=\"yolov5\")"
   ],
   "id": "a8f5c7ec0724ddaf",
   "outputs": [
    {
     "name": "stdout",
     "output_type": "stream",
     "text": [
      "PRO TIP  Replace 'model=yolov5l.pt' with new 'model=yolov5lu.pt'.\n",
      "YOLOv5 'u' models are trained with https://github.com/ultralytics/ultralytics and feature improved performance vs standard YOLOv5 models trained with https://github.com/ultralytics/yolov5.\n",
      "\n",
      "New https://pypi.org/project/ultralytics/8.3.56 available  Update with 'pip install -U ultralytics'\n",
      "\u001B[34m\u001B[1mengine\\trainer: \u001B[0mtask=detect, mode=train, model=yolov5l.pt, data=C:\\Users\\siani\\PycharmProjects\\AIxFootballAnalysis\\src\\training\\../../dataset\\yolov5\\v1\\data.yaml, epochs=10, time=None, patience=100, batch=16, imgsz=640, save=True, save_period=-1, cache=False, device=cuda:0, workers=8, project=None, name=train, exist_ok=False, pretrained=True, optimizer=auto, verbose=True, seed=0, deterministic=True, single_cls=False, rect=False, cos_lr=False, close_mosaic=10, resume=False, amp=True, fraction=1.0, profile=False, freeze=None, multi_scale=False, overlap_mask=True, mask_ratio=4, dropout=0.0, val=True, split=val, save_json=False, save_hybrid=False, conf=None, iou=0.7, max_det=300, half=False, dnn=False, plots=True, source=None, vid_stride=1, stream_buffer=False, visualize=False, augment=False, agnostic_nms=False, classes=None, retina_masks=False, embed=None, show=False, save_frames=False, save_txt=False, save_conf=False, save_crop=False, show_labels=True, show_conf=True, show_boxes=True, line_width=None, format=torchscript, keras=False, optimize=False, int8=False, dynamic=False, simplify=True, opset=None, workspace=4, nms=False, lr0=0.01, lrf=0.01, momentum=0.937, weight_decay=0.0005, warmup_epochs=3.0, warmup_momentum=0.8, warmup_bias_lr=0.1, box=7.5, cls=0.5, dfl=1.5, pose=12.0, kobj=1.0, label_smoothing=0.0, nbs=64, hsv_h=0.015, hsv_s=0.7, hsv_v=0.4, degrees=0.0, translate=0.1, scale=0.5, shear=0.0, perspective=0.0, flipud=0.0, fliplr=0.5, bgr=0.0, mosaic=1.0, mixup=0.0, copy_paste=0.0, copy_paste_mode=flip, auto_augment=randaugment, erasing=0.4, crop_fraction=1.0, cfg=None, tracker=botsort.yaml, save_dir=runs\\detect\\train\n",
      "Overriding model.yaml nc=80 with nc=4\n",
      "\n",
      "                   from  n    params  module                                       arguments                     \n",
      "  0                  -1  1      7040  ultralytics.nn.modules.conv.Conv             [3, 64, 6, 2, 2]              \n",
      "  1                  -1  1     73984  ultralytics.nn.modules.conv.Conv             [64, 128, 3, 2]               \n",
      "  2                  -1  3    156928  ultralytics.nn.modules.block.C3              [128, 128, 3]                 \n",
      "  3                  -1  1    295424  ultralytics.nn.modules.conv.Conv             [128, 256, 3, 2]              \n",
      "  4                  -1  6   1118208  ultralytics.nn.modules.block.C3              [256, 256, 6]                 \n",
      "  5                  -1  1   1180672  ultralytics.nn.modules.conv.Conv             [256, 512, 3, 2]              \n",
      "  6                  -1  9   6433792  ultralytics.nn.modules.block.C3              [512, 512, 9]                 \n",
      "  7                  -1  1   4720640  ultralytics.nn.modules.conv.Conv             [512, 1024, 3, 2]             \n",
      "  8                  -1  3   9971712  ultralytics.nn.modules.block.C3              [1024, 1024, 3]               \n",
      "  9                  -1  1   2624512  ultralytics.nn.modules.block.SPPF            [1024, 1024, 5]               \n",
      " 10                  -1  1    525312  ultralytics.nn.modules.conv.Conv             [1024, 512, 1, 1]             \n",
      " 11                  -1  1         0  torch.nn.modules.upsampling.Upsample         [None, 2, 'nearest']          \n",
      " 12             [-1, 6]  1         0  ultralytics.nn.modules.conv.Concat           [1]                           \n",
      " 13                  -1  3   2757632  ultralytics.nn.modules.block.C3              [1024, 512, 3, False]         \n",
      " 14                  -1  1    131584  ultralytics.nn.modules.conv.Conv             [512, 256, 1, 1]              \n",
      " 15                  -1  1         0  torch.nn.modules.upsampling.Upsample         [None, 2, 'nearest']          \n",
      " 16             [-1, 4]  1         0  ultralytics.nn.modules.conv.Concat           [1]                           \n",
      " 17                  -1  3    690688  ultralytics.nn.modules.block.C3              [512, 256, 3, False]          \n",
      " 18                  -1  1    590336  ultralytics.nn.modules.conv.Conv             [256, 256, 3, 2]              \n",
      " 19            [-1, 14]  1         0  ultralytics.nn.modules.conv.Concat           [1]                           \n",
      " 20                  -1  3   2495488  ultralytics.nn.modules.block.C3              [512, 512, 3, False]          \n",
      " 21                  -1  1   2360320  ultralytics.nn.modules.conv.Conv             [512, 512, 3, 2]              \n",
      " 22            [-1, 10]  1         0  ultralytics.nn.modules.conv.Concat           [1]                           \n",
      " 23                  -1  3   9971712  ultralytics.nn.modules.block.C3              [1024, 1024, 3, False]        \n",
      " 24        [17, 20, 23]  1   7060444  ultralytics.nn.modules.head.Detect           [4, [256, 512, 1024]]         \n",
      "YOLOv5l summary: 416 layers, 53,166,428 parameters, 53,166,412 gradients, 135.3 GFLOPs\n",
      "\n",
      "Transferred 685/691 items from pretrained weights\n",
      "\u001B[34m\u001B[1mTensorBoard: \u001B[0mStart with 'tensorboard --logdir runs\\detect\\train', view at http://localhost:6006/\n",
      "Freezing layer 'model.24.dfl.conv.weight'\n",
      "\u001B[34m\u001B[1mAMP: \u001B[0mrunning Automatic Mixed Precision (AMP) checks...\n",
      "\u001B[34m\u001B[1mAMP: \u001B[0mchecks passed \n"
     ]
    },
    {
     "name": "stderr",
     "output_type": "stream",
     "text": [
      "\u001B[34m\u001B[1mtrain: \u001B[0mScanning C:\\Users\\siani\\PycharmProjects\\AIxFootballAnalysis\\dataset\\yolov5\\v1\\train\\labels.cache... 702 images, 0 backgrounds, 0 corrupt: 100%|██████████| 702/702 [00:00<?, ?it/s]\n",
      "\u001B[34m\u001B[1mval: \u001B[0mScanning C:\\Users\\siani\\PycharmProjects\\AIxFootballAnalysis\\dataset\\yolov5\\v1\\valid\\labels... 47 images, 0 backgrounds, 0 corrupt: 100%|██████████| 47/47 [00:00<00:00, 388.00it/s]"
     ]
    },
    {
     "name": "stdout",
     "output_type": "stream",
     "text": [
      "\u001B[34m\u001B[1mval: \u001B[0mNew cache created: C:\\Users\\siani\\PycharmProjects\\AIxFootballAnalysis\\dataset\\yolov5\\v1\\valid\\labels.cache\n"
     ]
    },
    {
     "name": "stderr",
     "output_type": "stream",
     "text": [
      "\n"
     ]
    },
    {
     "name": "stdout",
     "output_type": "stream",
     "text": [
      "Plotting labels to runs\\detect\\train\\labels.jpg... \n",
      "\u001B[34m\u001B[1moptimizer:\u001B[0m 'optimizer=auto' found, ignoring 'lr0=0.01' and 'momentum=0.937' and determining best 'optimizer', 'lr0' and 'momentum' automatically... \n",
      "\u001B[34m\u001B[1moptimizer:\u001B[0m AdamW(lr=0.00125, momentum=0.9) with parameter groups 113 weight(decay=0.0), 120 weight(decay=0.0005), 119 bias(decay=0.0)\n",
      "\u001B[34m\u001B[1mTensorBoard: \u001B[0mmodel graph visualization added \n",
      "Image sizes 640 train, 640 val\n",
      "Using 8 dataloader workers\n",
      "Logging results to \u001B[1mruns\\detect\\train\u001B[0m\n",
      "Starting training for 10 epochs...\n",
      "Closing dataloader mosaic\n",
      "\n",
      "      Epoch    GPU_mem   box_loss   cls_loss   dfl_loss  Instances       Size\n"
     ]
    },
    {
     "name": "stderr",
     "output_type": "stream",
     "text": [
      "       1/10      11.3G      1.142      1.782     0.8353        359        640:  59%|█████▉    | 26/44 [06:29<04:42, 15.69s/it]"
     ]
    }
   ],
   "execution_count": null
  },
  {
   "metadata": {
    "ExecuteTime": {
     "end_time": "2025-01-01T17:31:39.235879Z",
     "start_time": "2025-01-01T17:31:38.663424Z"
    }
   },
   "cell_type": "code",
   "source": "model.val(data=os.path.join(dataset_path, \"data.yaml\"), epochs=10, imgsz=640, save=True, project=\"AIxFootballAnalysis\")",
   "id": "6695de8dd9029117",
   "outputs": [
    {
     "ename": "NameError",
     "evalue": "name 'model' is not defined",
     "output_type": "error",
     "traceback": [
      "\u001B[1;31m---------------------------------------------------------------------------\u001B[0m",
      "\u001B[1;31mNameError\u001B[0m                                 Traceback (most recent call last)",
      "Cell \u001B[1;32mIn[1], line 1\u001B[0m\n\u001B[1;32m----> 1\u001B[0m \u001B[43mmodel\u001B[49m\u001B[38;5;241m.\u001B[39mval(data\u001B[38;5;241m=\u001B[39mos\u001B[38;5;241m.\u001B[39mpath\u001B[38;5;241m.\u001B[39mjoin(dataset_path, \u001B[38;5;124m\"\u001B[39m\u001B[38;5;124mdata.yaml\u001B[39m\u001B[38;5;124m\"\u001B[39m), epochs\u001B[38;5;241m=\u001B[39m\u001B[38;5;241m10\u001B[39m, imgsz\u001B[38;5;241m=\u001B[39m\u001B[38;5;241m640\u001B[39m, save\u001B[38;5;241m=\u001B[39m\u001B[38;5;28;01mTrue\u001B[39;00m, project\u001B[38;5;241m=\u001B[39m\u001B[38;5;124m\"\u001B[39m\u001B[38;5;124mAIxFootballAnalysis\u001B[39m\u001B[38;5;124m\"\u001B[39m)\n",
      "\u001B[1;31mNameError\u001B[0m: name 'model' is not defined"
     ]
    }
   ],
   "execution_count": 1
  },
  {
   "metadata": {},
   "cell_type": "code",
   "outputs": [],
   "execution_count": null,
   "source": "### Plots",
   "id": "8ca95244c4166703"
  },
  {
   "metadata": {},
   "cell_type": "code",
   "outputs": [],
   "execution_count": null,
   "source": [
    "results_path = os.path.join(cwd, \"runs\", \"detect\", \"train1\", \"results.csv\")\n",
    "data = pd.read_csv(results_path)\n",
    "data\n",
    "plot_losses(data)"
   ],
   "id": "8045b47855952e73"
  },
  {
   "metadata": {},
   "cell_type": "markdown",
   "source": [
    "## v2\n",
    "388 samples with 3x augmentation"
   ],
   "id": "a1508a4deb102ad"
  },
  {
   "metadata": {},
   "cell_type": "code",
   "outputs": [],
   "execution_count": null,
   "source": [
    "#train yolo on GPU with 10 epochs\n",
    "mp.freeze_support()  # Necessario su Windows\n",
    "model = YOLO(\"yolov5l.pt\")\n",
    "model = model.cuda()\n",
    "dataset_path = os.path.join(dataset_root_folder, \"yolov5\", \"v2\")\n",
    "# check if the model is on the GPU\n",
    "model.train(data=os.path.join(dataset_path, \"data.yaml\"), epochs=10, imgsz=640, save=True, save_dir=\"yolov5\")\n",
    "model.val(data=os.path.join(dataset_path, \"data.yaml\"), epochs=10, imgsz=640, save=True, project=\"AIxFootballAnalysis\")\n",
    "### Plots\n",
    "results_path = os.path.join(cwd, \"runs\", \"detect\", \"train2\", \"results.csv\")\n",
    "data = pd.read_csv(results_path)\n",
    "data\n",
    "plot_losses(data)"
   ],
   "id": "14c0279964502dc2"
  },
  {
   "metadata": {},
   "cell_type": "markdown",
   "source": "# YOLOv9",
   "id": "f221fdd7b13a3c94"
  },
  {
   "metadata": {},
   "cell_type": "markdown",
   "source": [
    "## v1 \n",
    "312 images with 3x augmentation"
   ],
   "id": "c4b7758c0a1946fb"
  },
  {
   "metadata": {},
   "cell_type": "code",
   "outputs": [],
   "execution_count": null,
   "source": [
    "#train yolo on GPU with 10 epochs\n",
    "mp.freeze_support()  # Necessario su Windows\n",
    "model = YOLO(\"yolov9c.pt\")\n",
    "model = model.cuda()\n",
    "# check if the model is on the GPU\n",
    "dataset_path = os.path.join(dataset_root_folder, \"yolov9\", \"v1\")\n",
    "model.train(data=dataset_path, epochs=10, imgsz=640, save=True)\n",
    "model.val(data=dataset_path, epochs=10, imgsz=640, save=True, project=\"AIxFootballAnalysis\")\n",
    "### Plots\n",
    "results_path = os.path.join(cwd, \"runs\", \"detect\", \"train3\", \"results.csv\")\n",
    "data = pd.read_csv(results_path)\n",
    "plot_losses(data)"
   ],
   "id": "13972eeda4771421"
  },
  {
   "metadata": {},
   "cell_type": "markdown",
   "source": [
    "## v2\n",
    "388 samples with 3x augmentation\n",
    "\n"
   ],
   "id": "610debc3a1e5ca27"
  },
  {
   "metadata": {},
   "cell_type": "code",
   "outputs": [],
   "execution_count": null,
   "source": [
    "#train yolo on GPU with 10 epochs\n",
    "mp.freeze_support()  # Necessario su Windows\n",
    "model = YOLO(\"yolov9c.pt\")\n",
    "model = model.cuda()\n",
    "# check if the model is on the GPU\n",
    "dataset_path = os.path.join(dataset_root_folder, \"yolov9\", \"v2\")\n",
    "model.train(data=dataset_path, epochs=10, imgsz=640, save=True)\n",
    "model.val(data=dataset_path, epochs=10, imgsz=640, save=True, project=\"AIxFootballAnalysis\")\n",
    "### Plots\n",
    "results_path = os.path.join(cwd, \"runs\", \"detect\", \"train4\", \"results.csv\")\n",
    "data = pd.read_csv(results_path)\n",
    "plot_losses(data)"
   ],
   "id": "f1019041b15edd38"
  }
 ],
 "metadata": {
  "kernelspec": {
   "display_name": "Python 3",
   "language": "python",
   "name": "python3"
  },
  "language_info": {
   "codemirror_mode": {
    "name": "ipython",
    "version": 2
   },
   "file_extension": ".py",
   "mimetype": "text/x-python",
   "name": "python",
   "nbconvert_exporter": "python",
   "pygments_lexer": "ipython2",
   "version": "2.7.6"
  }
 },
 "nbformat": 4,
 "nbformat_minor": 5
}
